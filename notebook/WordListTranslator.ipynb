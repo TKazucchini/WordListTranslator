{
 "cells": [
  {
   "cell_type": "markdown",
   "metadata": {},
   "source": [
    "ver. 2020.07.13\n",
    "\n",
    "powered by https://github.com/nbw/jisho_elixir\n",
    "\n",
    "# Word List Translator"
   ]
  },
  {
   "cell_type": "code",
   "execution_count": null,
   "metadata": {},
   "outputs": [],
   "source": [
    "import os\n",
    "from urllib.request import urlopen\n",
    "import pandas as pd\n",
    "import json"
   ]
  },
  {
   "cell_type": "code",
   "execution_count": null,
   "metadata": {},
   "outputs": [],
   "source": [
    "# Web API end point\n",
    "BASE_URL = \"http://beta.jisho.org/api/v1/search/words?\"\n",
    "\n",
    "# Data Dir\n",
    "outputPath = os.path.dirname(os.getcwd()) + r'\\output'\n",
    "dataPath = os.path.dirname(os.getcwd()) + r'\\data'"
   ]
  },
  {
   "cell_type": "code",
   "execution_count": null,
   "metadata": {},
   "outputs": [],
   "source": [
    "wordlist = pd.read_csv(dataPath + r'/wordlist.csv', encoding = 'utf-8')"
   ]
  },
  {
   "cell_type": "code",
   "execution_count": null,
   "metadata": {},
   "outputs": [],
   "source": [
    "# Sample\n",
    "wordlist.head()"
   ]
  },
  {
   "cell_type": "code",
   "execution_count": null,
   "metadata": {
    "scrolled": false
   },
   "outputs": [],
   "source": [
    "%%time\n",
    "\n",
    "def get_url(word):\n",
    "    url = f\"{BASE_URL}&keyword={word}\"\n",
    "    return url\n",
    "\n",
    "output = pd.DataFrame()\n",
    "for i, w in enumerate(wordlist['WORD']):\n",
    "    print(str(i + 1) + \"/\" + str(len(wordlist)) + \": \" + str(w))\n",
    "    json_data = urlopen(get_url(w)).read().decode(\"utf-8\")\n",
    "    data = json.loads(json_data)\n",
    "    jp_list = list()\n",
    "    for j in data['data']:\n",
    "        try:\n",
    "            result = j['japanese'][0]['word']\n",
    "            jp_list.append(result)\n",
    "        except:\n",
    "            jp_list.append(None)\n",
    "        \n",
    "    if jp_list == []:\n",
    "        jp_list.append('No Word Found')\n",
    "        \n",
    "    print(jp_list)\n",
    "    output = output.append(pd.DataFrame(jp_list).T)\n",
    "output = output.reset_index(drop = True)\n",
    "word_jp_df = pd.concat([wordlist, output], axis = 1)"
   ]
  },
  {
   "cell_type": "code",
   "execution_count": null,
   "metadata": {},
   "outputs": [],
   "source": [
    "# Write the csv file.\n",
    "word_jp_df.to_csv(outputPath + r'/word_jp_df.csv', encoding = 'utf-8-sig')"
   ]
  }
 ],
 "metadata": {
  "kernelspec": {
   "display_name": "Python 3",
   "language": "python",
   "name": "python3"
  },
  "language_info": {
   "codemirror_mode": {
    "name": "ipython",
    "version": 3
   },
   "file_extension": ".py",
   "mimetype": "text/x-python",
   "name": "python",
   "nbconvert_exporter": "python",
   "pygments_lexer": "ipython3",
   "version": "3.6.6"
  }
 },
 "nbformat": 4,
 "nbformat_minor": 2
}
